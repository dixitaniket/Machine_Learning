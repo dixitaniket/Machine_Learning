{
  "nbformat": 4,
  "nbformat_minor": 0,
  "metadata": {
    "kernelspec": {
      "display_name": "Python 3",
      "language": "python",
      "name": "python3"
    },
    "language_info": {
      "codemirror_mode": {
        "name": "ipython",
        "version": 3
      },
      "file_extension": ".py",
      "mimetype": "text/x-python",
      "name": "python",
      "nbconvert_exporter": "python",
      "pygments_lexer": "ipython3",
      "version": "3.8.2"
    },
    "colab": {
      "name": "auto_encoders.ipynb",
      "provenance": [],
      "toc_visible": true
    },
    "accelerator": "GPU"
  },
  "cells": [
    {
      "cell_type": "code",
      "metadata": {
        "id": "WBuZhlEHDMiK",
        "colab_type": "code",
        "colab": {}
      },
      "source": [
        "%config IPCompleter.greedy=True"
      ],
      "execution_count": 1,
      "outputs": []
    },
    {
      "cell_type": "code",
      "metadata": {
        "id": "Ko3V16lTDMiU",
        "colab_type": "code",
        "colab": {}
      },
      "source": [
        "import tensorflow as tf\n",
        "from tensorflow.keras.layers import Dense\n",
        "import numpy as np\n",
        "import matplotlib.pyplot as plt"
      ],
      "execution_count": 2,
      "outputs": []
    },
    {
      "cell_type": "code",
      "metadata": {
        "id": "LF2Q3BdZDMid",
        "colab_type": "code",
        "colab": {
          "base_uri": "https://localhost:8080/",
          "height": 52
        },
        "outputId": "c8fff71e-f295-4932-eacb-d4538f0d6dac"
      },
      "source": [
        "print(tf.__version__)\n",
        "print(np.__version__)"
      ],
      "execution_count": 3,
      "outputs": [
        {
          "output_type": "stream",
          "text": [
            "2.2.0\n",
            "1.18.5\n"
          ],
          "name": "stdout"
        }
      ]
    },
    {
      "cell_type": "code",
      "metadata": {
        "id": "oA2U0nPjDMil",
        "colab_type": "code",
        "colab": {
          "base_uri": "https://localhost:8080/",
          "height": 176
        },
        "outputId": "1f2fcafa-f24e-4bf5-9e2d-c0dfc8cc78ff"
      },
      "source": [
        "(x_train,_),(_,_)=tf.keras.datasets.fashion_mnist.load_data()"
      ],
      "execution_count": 4,
      "outputs": [
        {
          "output_type": "stream",
          "text": [
            "Downloading data from https://storage.googleapis.com/tensorflow/tf-keras-datasets/train-labels-idx1-ubyte.gz\n",
            "32768/29515 [=================================] - 0s 0us/step\n",
            "Downloading data from https://storage.googleapis.com/tensorflow/tf-keras-datasets/train-images-idx3-ubyte.gz\n",
            "26427392/26421880 [==============================] - 0s 0us/step\n",
            "Downloading data from https://storage.googleapis.com/tensorflow/tf-keras-datasets/t10k-labels-idx1-ubyte.gz\n",
            "8192/5148 [===============================================] - 0s 0us/step\n",
            "Downloading data from https://storage.googleapis.com/tensorflow/tf-keras-datasets/t10k-images-idx3-ubyte.gz\n",
            "4423680/4422102 [==============================] - 0s 0us/step\n"
          ],
          "name": "stdout"
        }
      ]
    },
    {
      "cell_type": "code",
      "metadata": {
        "id": "gELPgaueDMir",
        "colab_type": "code",
        "colab": {
          "base_uri": "https://localhost:8080/",
          "height": 34
        },
        "outputId": "28b93600-7d22-4201-d5e0-3e864912766c"
      },
      "source": [
        "# we just need the images and not the labels as we are not doing any classification\n",
        "# we are just denoising the images that are already present\n",
        "print(x_train.shape)"
      ],
      "execution_count": 5,
      "outputs": [
        {
          "output_type": "stream",
          "text": [
            "(60000, 28, 28)\n"
          ],
          "name": "stdout"
        }
      ]
    },
    {
      "cell_type": "code",
      "metadata": {
        "id": "hY1gWASqDMiy",
        "colab_type": "code",
        "colab": {
          "base_uri": "https://localhost:8080/",
          "height": 282
        },
        "outputId": "5c6873a9-5eb2-4305-dada-3fee7d195d6d"
      },
      "source": [
        "plt.imshow(x_train[0],cmap=\"gray\")"
      ],
      "execution_count": 6,
      "outputs": [
        {
          "output_type": "execute_result",
          "data": {
            "text/plain": [
              "<matplotlib.image.AxesImage at 0x7f45679e9c88>"
            ]
          },
          "metadata": {
            "tags": []
          },
          "execution_count": 6
        },
        {
          "output_type": "display_data",
          "data": {
            "image/png": "[encoded data removed]",
            "text/plain": [
              "<Figure size 432x288 with 1 Axes>"
            ]
          },
          "metadata": {
            "tags": [],
            "needs_background": "light"
          }
        }
      ]
    },
    {
      "cell_type": "code",
      "metadata": {
        "id": "5Ni22hjrDMi5",
        "colab_type": "code",
        "colab": {}
      },
      "source": [
        "# adding some noise in the data\n",
        "x_noise_data=x_train+5*np.random.normal(0,1,size=x_train.shape)"
      ],
      "execution_count": 7,
      "outputs": []
    },
    {
      "cell_type": "code",
      "metadata": {
        "id": "GAycrphpDMi-",
        "colab_type": "code",
        "colab": {
          "base_uri": "https://localhost:8080/",
          "height": 282
        },
        "outputId": "810384f9-ef45-4059-ebdc-07543edd99d5"
      },
      "source": [
        "# plotting the noised data\n",
        "plt.imshow(x_noise_data[0],cmap=\"gray\")"
      ],
      "execution_count": 8,
      "outputs": [
        {
          "output_type": "execute_result",
          "data": {
            "text/plain": [
              "<matplotlib.image.AxesImage at 0x7f45674bde10>"
            ]
          },
          "metadata": {
            "tags": []
          },
          "execution_count": 8
        },
        {
          "output_type": "display_data",
          "data": {
            "image/png": "[encoded data removed]",
            "text/plain": [
              "<Figure size 432x288 with 1 Axes>"
            ]
          },
          "metadata": {
            "tags": [],
            "needs_background": "light"
          }
        }
      ]
    },
    {
      "cell_type": "code",
      "metadata": {
        "id": "Wq1UPlH8DMjC",
        "colab_type": "code",
        "colab": {}
      },
      "source": [
        "input_shape=x_train.shape[1]*x_train.shape[2]"
      ],
      "execution_count": 9,
      "outputs": []
    },
    {
      "cell_type": "markdown",
      "metadata": {
        "id": "_RQ8j1zDDMjJ",
        "colab_type": "text"
      },
      "source": [
        "\n",
        "## well the image is noised and we are going to de-noise the image using neural networks"
      ]
    },
    {
      "cell_type": "code",
      "metadata": {
        "id": "wk7CtwLyDMjK",
        "colab_type": "code",
        "colab": {}
      },
      "source": [
        "encoder_model=tf.keras.Sequential(\n",
        "[\n",
        "    Dense(784,input_shape=(input_shape,),activation='relu'),\n",
        "    Dense(256,activation=\"relu\"),\n",
        "    Dense(128,activation=\"relu\"),\n",
        "    tf.keras.layers.BatchNormalization(),\n",
        "    Dense(32,activation=\"relu\"),\n",
        "    Dense(12,activation=\"relu\"),\n",
        "    Dense(12,activation=\"relu\")\n",
        "])"
      ],
      "execution_count": 141,
      "outputs": []
    },
    {
      "cell_type": "code",
      "metadata": {
        "id": "hy3Ac4zZDMjP",
        "colab_type": "code",
        "colab": {
          "base_uri": "https://localhost:8080/",
          "height": 34
        },
        "outputId": "507bbf8c-fa9f-4d5b-e367-7bc7183de7ec"
      },
      "source": [
        "print(encoder_model.output_shape)"
      ],
      "execution_count": 142,
      "outputs": [
        {
          "output_type": "stream",
          "text": [
            "(None, 12)\n"
          ],
          "name": "stdout"
        }
      ]
    },
    {
      "cell_type": "code",
      "metadata": {
        "id": "-Ue_b2LrDMjU",
        "colab_type": "code",
        "colab": {
          "base_uri": "https://localhost:8080/",
          "height": 416
        },
        "outputId": "407935b9-4524-4144-8fb7-e06d56e443ad"
      },
      "source": [
        "print(encoder_model.summary())"
      ],
      "execution_count": 143,
      "outputs": [
        {
          "output_type": "stream",
          "text": [
            "Model: \"sequential_9\"\n",
            "_________________________________________________________________\n",
            "Layer (type)                 Output Shape              Param #   \n",
            "=================================================================\n",
            "dense_34 (Dense)             (None, 784)               615440    \n",
            "_________________________________________________________________\n",
            "dense_35 (Dense)             (None, 256)               200960    \n",
            "_________________________________________________________________\n",
            "dense_36 (Dense)             (None, 128)               32896     \n",
            "_________________________________________________________________\n",
            "batch_normalization_3 (Batch (None, 128)               512       \n",
            "_________________________________________________________________\n",
            "dense_37 (Dense)             (None, 32)                4128      \n",
            "_________________________________________________________________\n",
            "dense_38 (Dense)             (None, 12)                396       \n",
            "_________________________________________________________________\n",
            "dense_39 (Dense)             (None, 12)                156       \n",
            "=================================================================\n",
            "Total params: 854,488\n",
            "Trainable params: 854,232\n",
            "Non-trainable params: 256\n",
            "_________________________________________________________________\n",
            "None\n"
          ],
          "name": "stdout"
        }
      ]
    },
    {
      "cell_type": "markdown",
      "metadata": {
        "id": "fVOnw6_tDMja",
        "colab_type": "text"
      },
      "source": [
        "# Decoder Model\n",
        "> making the decoder model"
      ]
    },
    {
      "cell_type": "code",
      "metadata": {
        "id": "s6aDWPRQDMja",
        "colab_type": "code",
        "colab": {}
      },
      "source": [
        "decoder_model=tf.keras.Sequential([\n",
        "    Dense(32,activation=\"relu\",input_shape=(12,)),\n",
        "    tf.keras.layers.BatchNormalization(),\n",
        "    Dense(128,activation=\"relu\"),\n",
        "\n",
        "    Dense(256,activation=\"relu\"),\n",
        "    Dense(input_shape,activation=\"relu\")\n",
        "])"
      ],
      "execution_count": 144,
      "outputs": []
    },
    {
      "cell_type": "markdown",
      "metadata": {
        "id": "weZnC5kvDMjf",
        "colab_type": "text"
      },
      "source": [
        "# Setting up losses and optimizers\n",
        "## for the auto encoders"
      ]
    },
    {
      "cell_type": "code",
      "metadata": {
        "id": "qL-DbtsPDMjx",
        "colab_type": "code",
        "colab": {}
      },
      "source": [
        "data=encoder_model.predict(x_noise_data[1000].reshape(1,784))"
      ],
      "execution_count": 172,
      "outputs": []
    },
    {
      "cell_type": "code",
      "metadata": {
        "id": "rmsQsnDlDm_y",
        "colab_type": "code",
        "colab": {
          "base_uri": "https://localhost:8080/",
          "height": 34
        },
        "outputId": "348ec87c-d63c-4f30-fc20-4b0b5b5bf16e"
      },
      "source": [
        "print(data.shape)\n",
        "data=decoder_model.predict(data)"
      ],
      "execution_count": 146,
      "outputs": [
        {
          "output_type": "stream",
          "text": [
            "(1, 12)\n"
          ],
          "name": "stdout"
        }
      ]
    },
    {
      "cell_type": "code",
      "metadata": {
        "id": "vvhUyEc6EmEd",
        "colab_type": "code",
        "colab": {
          "base_uri": "https://localhost:8080/",
          "height": 34
        },
        "outputId": "0fdfcaed-e162-4d7f-c21e-72f1816cc6c8"
      },
      "source": [
        "data.shape"
      ],
      "execution_count": 147,
      "outputs": [
        {
          "output_type": "execute_result",
          "data": {
            "text/plain": [
              "(1, 784)"
            ]
          },
          "metadata": {
            "tags": []
          },
          "execution_count": 147
        }
      ]
    },
    {
      "cell_type": "code",
      "metadata": {
        "id": "ZgNinml5En_V",
        "colab_type": "code",
        "colab": {
          "base_uri": "https://localhost:8080/",
          "height": 282
        },
        "outputId": "1cf6c1c8-1a65-4aa4-ff49-9e2de1d10a6e"
      },
      "source": [
        "plt.imshow(data.reshape(28,28),cmap='gray')"
      ],
      "execution_count": 148,
      "outputs": [
        {
          "output_type": "execute_result",
          "data": {
            "text/plain": [
              "<matplotlib.image.AxesImage at 0x7f455a33d860>"
            ]
          },
          "metadata": {
            "tags": []
          },
          "execution_count": 148
        },
        {
          "output_type": "display_data",
          "data": {
            "image/png": "[encoded data removed]",
            "text/plain": [
              "<Figure size 432x288 with 1 Axes>"
            ]
          },
          "metadata": {
            "tags": [],
            "needs_background": "light"
          }
        }
      ]
    },
    {
      "cell_type": "code",
      "metadata": {
        "id": "AiZYxQhjEquF",
        "colab_type": "code",
        "colab": {
          "base_uri": "https://localhost:8080/",
          "height": 282
        },
        "outputId": "e91802a5-ee21-4394-fd14-f34ea220c398"
      },
      "source": [
        "plt.imshow(x_noise_data[1000],cmap=\"gray\")"
      ],
      "execution_count": 173,
      "outputs": [
        {
          "output_type": "execute_result",
          "data": {
            "text/plain": [
              "<matplotlib.image.AxesImage at 0x7f45548c5630>"
            ]
          },
          "metadata": {
            "tags": []
          },
          "execution_count": 173
        },
        {
          "output_type": "display_data",
          "data": {
            "image/png": "[encoded data removed]",
            "text/plain": [
              "<Figure size 432x288 with 1 Axes>"
            ]
          },
          "metadata": {
            "tags": [],
            "needs_background": "light"
          }
        }
      ]
    },
    {
      "cell_type": "code",
      "metadata": {
        "id": "JSfqcT4ZEx1Y",
        "colab_type": "code",
        "colab": {}
      },
      "source": [
        "# we have clubbed our encoder and decoder model together for training here\n",
        "another_model=tf.keras.Sequential(\n",
        "    [\n",
        "     encoder_model,\n",
        "     decoder_model\n",
        "    ]\n",
        ")"
      ],
      "execution_count": 150,
      "outputs": []
    },
    {
      "cell_type": "code",
      "metadata": {
        "id": "yDyYnJu2LtNu",
        "colab_type": "code",
        "colab": {}
      },
      "source": [
        "# defining the loss > mean squared error\n",
        "# defining the optimizer > adam \n",
        "another_model.compile(loss=\"mse\",optimizer=\"adam\",metrics=[\"accuracy\"],)"
      ],
      "execution_count": 152,
      "outputs": []
    },
    {
      "cell_type": "code",
      "metadata": {
        "id": "ziPAYS2fL9V7",
        "colab_type": "code",
        "colab": {}
      },
      "source": [
        "another_model.summary()"
      ],
      "execution_count": null,
      "outputs": []
    },
    {
      "cell_type": "code",
      "metadata": {
        "id": "3H3ZKZkgL-qh",
        "colab_type": "code",
        "colab": {}
      },
      "source": [
        "# fitting the model to noise\n",
        "another_model.fit(x_noise_data.reshape(-1,784)/255,x_train.reshape(-1,784)/255,epochs=50,batch_size=64)"
      ],
      "execution_count": null,
      "outputs": []
    },
    {
      "cell_type": "code",
      "metadata": {
        "id": "zMbUILXSMWpw",
        "colab_type": "code",
        "colab": {}
      },
      "source": [
        "# seeing if the model can denoise the data or not\n",
        "data=another_model(x_noise_data[1000].reshape(1,784)/255)"
      ],
      "execution_count": 174,
      "outputs": []
    },
    {
      "cell_type": "code",
      "metadata": {
        "id": "p-Y3Weo4MrpN",
        "colab_type": "code",
        "colab": {}
      },
      "source": [
        "data=data.numpy()"
      ],
      "execution_count": 166,
      "outputs": []
    },
    {
      "cell_type": "code",
      "metadata": {
        "id": "iRcMc549M1jF",
        "colab_type": "code",
        "colab": {
          "base_uri": "https://localhost:8080/",
          "height": 282
        },
        "outputId": "e631dc1b-b6e7-42aa-e45e-0663d617a1fa"
      },
      "source": [
        "plt.imshow(data.reshape(28,28),cmap='gray')"
      ],
      "execution_count": 167,
      "outputs": [
        {
          "output_type": "execute_result",
          "data": {
            "text/plain": [
              "<matplotlib.image.AxesImage at 0x7f4556216080>"
            ]
          },
          "metadata": {
            "tags": []
          },
          "execution_count": 167
        },
        {
          "output_type": "display_data",
          "data": {
            "image/png": "[encoded data removed]",
            "text/plain": [
              "<Figure size 432x288 with 1 Axes>"
            ]
          },
          "metadata": {
            "tags": [],
            "needs_background": "light"
          }
        }
      ]
    },
    {
      "cell_type": "code",
      "metadata": {
        "id": "9ZNbs2-UNAbG",
        "colab_type": "code",
        "colab": {
          "base_uri": "https://localhost:8080/",
          "height": 282
        },
        "outputId": "f2672f68-9ba1-4c9e-db60-562f65e98ab4"
      },
      "source": [
        "# the noised image that was given as the input\n",
        "plt.imshow(x_noise_data[1000].reshape(28,28))"
      ],
      "execution_count": 200,
      "outputs": [
        {
          "output_type": "execute_result",
          "data": {
            "text/plain": [
              "<matplotlib.image.AxesImage at 0x7f455a16c828>"
            ]
          },
          "metadata": {
            "tags": []
          },
          "execution_count": 200
        },
        {
          "output_type": "display_data",
          "data": {
            "image/png": "[encoded data removed]",
            "text/plain": [
              "<Figure size 432x288 with 1 Axes>"
            ]
          },
          "metadata": {
            "tags": [],
            "needs_background": "light"
          }
        }
      ]
    },
    {
      "cell_type": "code",
      "metadata": {
        "id": "dEftUeAJUUy3",
        "colab_type": "code",
        "colab": {}
      },
      "source": [
        "# lets see the output of the encoder and decoder model seperately\n",
        "intermediate_representation=encoder_model(x_noise_data[1000].reshape(1,784)/255)"
      ],
      "execution_count": 180,
      "outputs": []
    },
    {
      "cell_type": "code",
      "metadata": {
        "id": "3HBQ5U6cW61Q",
        "colab_type": "code",
        "colab": {
          "base_uri": "https://localhost:8080/",
          "height": 69
        },
        "outputId": "bc05dd37-8891-4a94-e680-679e4e96f737"
      },
      "source": [
        "print(\"the representation of the image > {}\".format(intermediate_representation))\n",
        "print(\"the shape of the representation > {}\".format(intermediate_representation.shape))"
      ],
      "execution_count": 181,
      "outputs": [
        {
          "output_type": "stream",
          "text": [
            "the representation of the image > [[10.511644   5.624295  10.811852   6.541124   7.8324285  7.019867\n",
            "  13.876985   0.        11.077307  14.990822   4.3830676  7.534665 ]]\n",
            "the shape of the representation > (1, 12)\n"
          ],
          "name": "stdout"
        }
      ]
    },
    {
      "cell_type": "code",
      "metadata": {
        "id": "0p5ZsKT5W9KX",
        "colab_type": "code",
        "colab": {
          "base_uri": "https://localhost:8080/",
          "height": 34
        },
        "outputId": "df9822af-64dd-4ea9-f465-a2673d24b9c9"
      },
      "source": [
        "recreated_image= decoder_model(intermediate_representation)\n",
        "print(\"the shape of the recreated representation > {}\".format(recreated_image.shape))"
      ],
      "execution_count": 184,
      "outputs": [
        {
          "output_type": "stream",
          "text": [
            "the shape of the recreated representation > (1, 784)\n"
          ],
          "name": "stdout"
        }
      ]
    },
    {
      "cell_type": "code",
      "metadata": {
        "id": "8fUeh1fWXA_R",
        "colab_type": "code",
        "colab": {
          "base_uri": "https://localhost:8080/",
          "height": 282
        },
        "outputId": "f9b84a00-797f-42c3-f499-0b04621c6cfd"
      },
      "source": [
        "#  plotting the recreated image\n",
        "plt.imshow(recreated_image.numpy().reshape(28,28))"
      ],
      "execution_count": 201,
      "outputs": [
        {
          "output_type": "execute_result",
          "data": {
            "text/plain": [
              "<matplotlib.image.AxesImage at 0x7f455a0c53c8>"
            ]
          },
          "metadata": {
            "tags": []
          },
          "execution_count": 201
        },
        {
          "output_type": "display_data",
          "data": {
            "image/png": "[encoded data removed]",
            "text/plain": [
              "<Figure size 432x288 with 1 Axes>"
            ]
          },
          "metadata": {
            "tags": [],
            "needs_background": "light"
          }
        }
      ]
    },
    {
      "cell_type": "code",
      "metadata": {
        "id": "wBHEYzFTZYfC",
        "colab_type": "code",
        "colab": {}
      },
      "source": [
        ""
      ],
      "execution_count": 199,
      "outputs": []
    },
    {
      "cell_type": "markdown",
      "metadata": {
        "id": "6VrHEyc0bc5M",
        "colab_type": "text"
      },
      "source": [
        "# The recreated image does not have noise present. !!!"
      ]
    },
    {
      "cell_type": "code",
      "metadata": {
        "id": "KnpFPIvmblMX",
        "colab_type": "code",
        "colab": {
          "base_uri": "https://localhost:8080/",
          "height": 268
        },
        "outputId": "b4e04da5-e39d-415a-82d2-ff8c1a444753"
      },
      "source": [
        "# creating a subplot for comparison\n",
        "a,b=plt.subplots(2,2)\n",
        "for i in range(2):\n",
        "  number=np.random.randint(0,60000)\n",
        "  data=x_noise_data[number]/255\n",
        "  b[i][0].imshow(data)\n",
        "  denoised_data=another_model(data.reshape(1,784)).numpy().reshape(28,28)\n",
        "  b[i][1].imshow(denoised_data)"
      ],
      "execution_count": 203,
      "outputs": [
        {
          "output_type": "display_data",
          "data": {
            "image/png": "[encoded data removed]",
            "text/plain": [
              "<Figure size 432x288 with 4 Axes>"
            ]
          },
          "metadata": {
            "tags": [],
            "needs_background": "light"
          }
        }
      ]
    },
    {
      "cell_type": "code",
      "metadata": {
        "id": "qaw4g8lUcJnX",
        "colab_type": "code",
        "colab": {}
      },
      "source": [
        ""
      ],
      "execution_count": null,
      "outputs": []
    }
  ]
}